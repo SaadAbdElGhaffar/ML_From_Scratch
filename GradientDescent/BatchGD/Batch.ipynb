{
 "cells": [
  {
   "cell_type": "code",
   "execution_count": 2,
   "metadata": {},
   "outputs": [],
   "source": [
    "import numpy as np\n",
    "\n",
    "def batch_gradient_descent(X, y, alpha=0.1, ep=0.0001, max_iter=10000):\n",
    "    \n",
    "    m = X.shape[0]\n",
    "    thetas = np.random.random(X.shape[1]+1)\n",
    "    X=np.insert(arr=X, obj=0, values=1, axis=1) #add ones in the first array \n",
    "    \n",
    "    for i in range(iters):\n",
    "        h_theta = X @ thetas\n",
    "        \n",
    "        diff = h_theta - y\n",
    "\n",
    "        cost = np.sum(diff**2) / (2*m)\n",
    "        \n",
    "        gradient = (X.T @ diff) / m\n",
    "    \n",
    "    Jac = sum\n",
    "  "
   ]
  },
  {
   "cell_type": "code",
   "execution_count": null,
   "metadata": {},
   "outputs": [],
   "source": []
  }
 ],
 "metadata": {
  "kernelspec": {
   "display_name": "base",
   "language": "python",
   "name": "python3"
  },
  "language_info": {
   "codemirror_mode": {
    "name": "ipython",
    "version": 3
   },
   "file_extension": ".py",
   "mimetype": "text/x-python",
   "name": "python",
   "nbconvert_exporter": "python",
   "pygments_lexer": "ipython3",
   "version": "3.9.13"
  }
 },
 "nbformat": 4,
 "nbformat_minor": 2
}
